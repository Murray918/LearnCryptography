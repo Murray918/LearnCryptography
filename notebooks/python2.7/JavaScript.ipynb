{
 "cells": [
  {
   "cell_type": "code",
   "execution_count": 1,
   "metadata": {},
   "outputs": [],
   "source": [
    "var url = require('url');\n",
    "var crypto = require('crypto');\n",
    "\n",
    "// Create the Cipher\n",
    "var ekey = crypto.createCipher('aes-256-cbc', 'mypassword');\n",
    "\n",
    "// Execute Update\n",
    "var enc_str = ekey.update('Tarantula Technology is Good for Austin', 'utf8', 'hex');"
   ]
  },
  {
   "cell_type": "code",
   "execution_count": 2,
   "metadata": {},
   "outputs": [
    {
     "name": "stdout",
     "output_type": "stream",
     "text": [
      "enc_str: e2cdf4a8bba700aca06f4ce1a3e58d9214af1c6a79e461b7e8b2862f0a58c2da490c7f8a11cab30f00b65c0e37e60c4b\n"
     ]
    }
   ],
   "source": [
    "// Execute Final\n",
    "enc_str += ekey.final('hex');\n",
    "console.log(\"enc_str: \" + enc_str);"
   ]
  },
  {
   "cell_type": "code",
   "execution_count": 3,
   "metadata": {},
   "outputs": [],
   "source": [
    "// Decrypt"
   ]
  },
  {
   "cell_type": "code",
   "execution_count": 4,
   "metadata": {},
   "outputs": [],
   "source": [
    "// Create the decipher\n",
    "var dkey = crypto.createDecipher('aes-256-cbc', 'mypassword');"
   ]
  },
  {
   "cell_type": "code",
   "execution_count": 5,
   "metadata": {},
   "outputs": [],
   "source": [
    "var clear_str = dkey.update(enc_str, 'hex', 'utf8');"
   ]
  },
  {
   "cell_type": "code",
   "execution_count": 6,
   "metadata": {},
   "outputs": [
    {
     "name": "stdout",
     "output_type": "stream",
     "text": [
      "Tarantula Technology is Good for Austin\n"
     ]
    }
   ],
   "source": [
    "//Execute Final\n",
    "clear_str += dkey.final('utf8');\n",
    "console.log(clear_str); //Tarantula Technology is Good for Austin"
   ]
  },
  {
   "cell_type": "code",
   "execution_count": null,
   "metadata": {},
   "outputs": [],
   "source": []
  },
  {
   "cell_type": "code",
   "execution_count": null,
   "metadata": {},
   "outputs": [],
   "source": []
  }
 ],
 "metadata": {
  "kernelspec": {
   "display_name": "Javascript (Node.js)",
   "language": "javascript",
   "name": "javascript"
  },
  "language_info": {
   "file_extension": ".js",
   "mimetype": "application/javascript",
   "name": "javascript",
   "version": "6.14.4"
  }
 },
 "nbformat": 4,
 "nbformat_minor": 2
}

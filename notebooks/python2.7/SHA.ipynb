{
 "cells": [
  {
   "cell_type": "code",
   "execution_count": 2,
   "metadata": {},
   "outputs": [
    {
     "name": "stdout",
     "output_type": "stream",
     "text": [
      "3200 rounds: password = 039 Hash =  000003257846810bf07c16262ad293e41e392bcbddaf27b5f228270f3de9a5f2\n",
      "2351 rounds: password = 156 Hash =  0000047609bcb7d6591b88c7ac6171a1d81f44f8b28519b5d0fdec19053b1c80\n",
      "3113 rounds: password = 549 Hash =  000008a085896c188f2a324060b29b5f1d74fd144752f70c9586cfd2900244e2\n"
     ]
    }
   ],
   "source": [
    "import hashlib\n",
    "\n",
    "alg = \"sha256\"\n",
    "nrmax  = 5000\n",
    "\n",
    "for ip in range(1000,2000):\n",
    "  sp = str(ip)\n",
    "  p = sp[1:]\n",
    "  h = p\n",
    "  for i in range(nrmax):\n",
    "    h = hashlib.new(alg, h).hexdigest()\n",
    "    #if h[0:5] == \"f6dc2\":\n",
    "    if h[0:5] == \"00000\":\n",
    "      print i+1, \"rounds: password =\", p, \"Hash = \",  h\n",
    "\n"
   ]
  },
  {
   "cell_type": "code",
   "execution_count": null,
   "metadata": {},
   "outputs": [],
   "source": []
  },
  {
   "cell_type": "code",
   "execution_count": null,
   "metadata": {},
   "outputs": [],
   "source": []
  }
 ],
 "metadata": {
  "kernelspec": {
   "display_name": "Python 2",
   "language": "python",
   "name": "python2"
  },
  "language_info": {
   "codemirror_mode": {
    "name": "ipython",
    "version": 2
   },
   "file_extension": ".py",
   "mimetype": "text/x-python",
   "name": "python",
   "nbconvert_exporter": "python",
   "pygments_lexer": "ipython2",
   "version": "2.7.12"
  }
 },
 "nbformat": 4,
 "nbformat_minor": 2
}

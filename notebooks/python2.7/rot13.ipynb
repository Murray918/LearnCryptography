{
 "cells": [
  {
   "cell_type": "code",
   "execution_count": 1,
   "metadata": {},
   "outputs": [
    {
     "name": "stdin",
     "output_type": "stream",
     "text": [
      "Enter message, like HELLO:  hello\n"
     ]
    },
    {
     "name": "stdout",
     "output_type": "stream",
     "text": [
      "Obfuscated version: MMMMM\n"
     ]
    }
   ],
   "source": [
    "alpha =  \"ABCDEFGHIJKLMNOPQRSTUVWXYZ\"\n",
    "\n",
    "str_in = raw_input(\"Enter message, like HELLO: \")\n",
    "shift = 13\n",
    "\n",
    "n = len(str_in)\n",
    "str_out = \"\"\n",
    "\n",
    "for i in range(n):\n",
    "   c = str_in[i]\n",
    "   loc = alpha.find(c)\n",
    "   newloc = (loc + shift)%26\n",
    "   str_out += alpha[newloc]\n",
    "\n",
    "print \"Obfuscated version:\", str_out\n"
   ]
  },
  {
   "cell_type": "code",
   "execution_count": null,
   "metadata": {},
   "outputs": [],
   "source": []
  },
  {
   "cell_type": "code",
   "execution_count": null,
   "metadata": {},
   "outputs": [],
   "source": []
  }
 ],
 "metadata": {
  "kernelspec": {
   "display_name": "Python 2",
   "language": "python",
   "name": "python2"
  },
  "language_info": {
   "codemirror_mode": {
    "name": "ipython",
    "version": 2
   },
   "file_extension": ".py",
   "mimetype": "text/x-python",
   "name": "python",
   "nbconvert_exporter": "python",
   "pygments_lexer": "ipython2",
   "version": "2.7.12"
  }
 },
 "nbformat": 4,
 "nbformat_minor": 2
}

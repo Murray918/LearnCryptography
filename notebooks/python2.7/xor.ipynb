{
 "cells": [
  {
   "cell_type": "code",
   "execution_count": 5,
   "metadata": {},
   "outputs": [
    {
     "name": "stdin",
     "output_type": "stream",
     "text": [
      "Enter text:  101\n",
      "Enter key:  010\n"
     ]
    },
    {
     "name": "stdout",
     "output_type": "stream",
     "text": [
      "101 010 010101\n"
     ]
    }
   ],
   "source": [
    "text = raw_input(\"Enter text: \")\n",
    "key = raw_input(\"Enter key: \")\n",
    "n = len(text)\n",
    "\n",
    "cipher = \"\"\n",
    "for i in range(n):\n",
    "  t = text[i]\n",
    "  k = key[i%len(key)]\n",
    "  x = ord(k) ^ ord(t)\n",
    "  cipher += chr(x)\n",
    "print text, key, cipher.encode(\"hex\")"
   ]
  },
  {
   "cell_type": "code",
   "execution_count": null,
   "metadata": {},
   "outputs": [],
   "source": []
  }
 ],
 "metadata": {
  "kernelspec": {
   "display_name": "Python 2",
   "language": "python",
   "name": "python2"
  },
  "language_info": {
   "codemirror_mode": {
    "name": "ipython",
    "version": 2
   },
   "file_extension": ".py",
   "mimetype": "text/x-python",
   "name": "python",
   "nbconvert_exporter": "python",
   "pygments_lexer": "ipython2",
   "version": "2.7.12"
  }
 },
 "nbformat": 4,
 "nbformat_minor": 2
}
